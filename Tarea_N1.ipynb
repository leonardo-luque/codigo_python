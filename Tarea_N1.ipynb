{
  "nbformat": 4,
  "nbformat_minor": 0,
  "metadata": {
    "colab": {
      "name": "Tarea_N1.ipynb",
      "provenance": [],
      "authorship_tag": "ABX9TyM80Je0nMwiT6qC3JJ28v+E",
      "include_colab_link": true
    },
    "kernelspec": {
      "name": "python3",
      "display_name": "Python 3"
    },
    "language_info": {
      "name": "python"
    }
  },
  "cells": [
    {
      "cell_type": "markdown",
      "metadata": {
        "id": "view-in-github",
        "colab_type": "text"
      },
      "source": [
        "<a href=\"https://colab.research.google.com/github/leonardo-luque/codigo_python/blob/main/Tarea_N1.ipynb\" target=\"_parent\"><img src=\"https://colab.research.google.com/assets/colab-badge.svg\" alt=\"Open In Colab\"/></a>"
      ]
    },
    {
      "cell_type": "markdown",
      "source": [
        "# Sentencia If"
      ],
      "metadata": {
        "id": "wGafafRIF6Bz"
      }
    },
    {
      "cell_type": "markdown",
      "source": [
        "### <b> Ejercicio 1</b>\n",
        "\n",
        "Imagina que un extraterrestre acaba de ser derribado en un juego. Cree una variable llamada alien_color y asígnele un valor de 'verde', 'amarillo' o 'rojo'.\n",
        "\n",
        "Escribe una declaración if para probar si el color del extraterrestre es verde. Si es así, imprime un mensaje de que el jugador acaba de ganar 5 puntos."
      ],
      "metadata": {
        "id": "Y-WZOmge-ddV"
      }
    },
    {
      "cell_type": "code",
      "source": [
        "alien_color = ['verde', 'amarillo', 'rojo']\n",
        "\n",
        "print (\"**** ADIVINE EL COLOR DEL ALIEN DERRIBADO ****\")\n",
        "colores = str(input('Ingrese el color del alien: '))\n",
        "if colores in 'verde':\n",
        "  print(\"Ganaste 5 Puntos\")\n",
        "else:\n",
        "  print(\"Perdiste ¡Sigue intentando!\")  \n",
        "\n"
      ],
      "metadata": {
        "colab": {
          "base_uri": "https://localhost:8080/"
        },
        "outputId": "85da2cca-b456-4521-92bf-69acec1fd254",
        "id": "mJgVVZguVBrC"
      },
      "execution_count": null,
      "outputs": [
        {
          "output_type": "stream",
          "name": "stdout",
          "text": [
            "**** ADIVINE EL COLOR DEL ALIEN DERRIBADO ****\n",
            "Ingrese el color del alien: amarillo\n",
            "Perdiste ¡Sigue intentando!\n"
          ]
        }
      ]
    },
    {
      "cell_type": "markdown",
      "source": [
        "### <b> Ejercicio 2</b>\n",
        "\n",
        "Elija un color para un extraterrestre como lo hizo en el Ejercicio 5-3 y escriba una cadena if-else.\n",
        "\n",
        "Si el alienígena es verde, imprime un mensaje de que el jugador obtuvo 5 puntos.\n",
        "Si el alienígena es amarillo, imprime un mensaje de que el jugador obtuvo 10 puntos.\n",
        "Si el alienígena es rojo, imprime un mensaje de que el jugador obtuvo 15 puntos."
      ],
      "metadata": {
        "id": "fe2t6tUu-_sX"
      }
    },
    {
      "cell_type": "code",
      "source": [
        "alien_color = ['verde', 'amarillo', 'rojo']\n",
        "\n",
        "print (\"**** ADIVINE EL COLOR DEL ALIEN DERRIBADO ****\")\n",
        "colores = str(input('Ingrese el color del alien: '))\n",
        "if colores in alien_color:\n",
        "  if  colores == 'verde':\n",
        "    print(\"Ganaste 5 Puntos\")\n",
        "  if  colores == 'amarillo':\n",
        "    print(\"Ganaste 10 Puntos\")\n",
        "  if  colores == 'rojo':\n",
        "    print(\"Ganaste 15 Puntos\")\n",
        "else:\n",
        "  print(\"Perdiste ¡Sigue intentando!\")\n",
        "\n"
      ],
      "metadata": {
        "colab": {
          "base_uri": "https://localhost:8080/"
        },
        "id": "WtEbGIpaNUV3",
        "outputId": "629803de-e86a-4eeb-dccd-70fdb3b0fe2c"
      },
      "execution_count": null,
      "outputs": [
        {
          "output_type": "stream",
          "name": "stdout",
          "text": [
            "**** ADIVINE EL COLOR DEL ALIEN DERRIBADO ****\n",
            "Ingrese el color del alien: verde\n",
            "Ganaste 5 Puntos\n"
          ]
        }
      ]
    },
    {
      "cell_type": "markdown",
      "source": [
        "# Sentencia While"
      ],
      "metadata": {
        "id": "JfuUCkXXM0Ht"
      }
    },
    {
      "cell_type": "markdown",
      "source": [
        "### <b> Ejercicio 1</b>\n",
        "\n",
        "Escriba un ciclo que solicite al usuario que ingrese una serie de ingredientes para la pizza hasta que ingrese un valor de 'salir'. A medida que ingresen cada ingrediente, imprima un mensaje que diga que agregará ese ingrediente a su pizza."
      ],
      "metadata": {
        "id": "NzzH8uoCFAMM"
      }
    },
    {
      "cell_type": "code",
      "source": [
        "prompt  = \" ---> Ingrese los ingredientes para su pizza:  \"\n",
        "mensaje_final = \" --> Este Ingrediente se agregara a su pizza.\"\n",
        "\n",
        "salida = ['salir', 'quit', 'exit', 'terminar', 'finalizar']\n",
        "active = True\n",
        "\n",
        "print (\"**** BIENVENIDOS A LA PIZZERIA ****\")\n",
        "while active:\n",
        "  print('\\n Si desea finalizar la orden escriba salir')\n",
        "  message = input(prompt)\n",
        "  if message in salida:\n",
        "    active = False\n",
        "  else:\n",
        "    print(f\" --> Se agregara {message.title()} como ingrediente para su pizza\")"
      ],
      "metadata": {
        "colab": {
          "base_uri": "https://localhost:8080/"
        },
        "id": "UpBSyiIeXSw0",
        "outputId": "e2210804-7a6e-45f5-8bf6-6e3ad7b34258"
      },
      "execution_count": null,
      "outputs": [
        {
          "name": "stdout",
          "output_type": "stream",
          "text": [
            "**** BIENVENIDOS A LA PIZZERIA ****\n",
            "\n",
            " Si desea finalizar la orden escriba salir\n",
            " ---> Ingrese los ingredientes para su pizza:  caramandungan\n",
            " --> Se agregara Caramandungan como ingrediente para su pizza\n",
            "\n",
            " Si desea finalizar la orden escriba salir\n",
            " ---> Ingrese los ingredientes para su pizza:  quit\n"
          ]
        }
      ]
    },
    {
      "cell_type": "markdown",
      "source": [
        "### <b> Ejercicio 2</b>\n",
        "\n",
        "Un cine cobra diferentes precios de boletos dependiendo de la edad de una persona. Si una persona es menor de 3 años, la entrada es gratuita; si son entre 3 y 12, el boleto cuesta s/. 10; y si son mayores de 12 años, el boleto cuesta s/. 15. Escriba un ciclo en el que pregunte a los usuarios su edad y luego dígales el costo de su boleto de cine."
      ],
      "metadata": {
        "id": "ATFL1LTaFDoF"
      }
    },
    {
      "cell_type": "code",
      "source": [
        "print (\"**************** BIENVENIDOS AL CINE STAR+ ****************\")\n",
        "\n",
        "active = True\n",
        "salida =['SI','si','Si','sI','s','S']\n",
        "while True:\n",
        "    ejecutar = input('\\n ¿Desea finalizar? \\n')\n",
        "    if ejecutar in salida:\n",
        "      break\n",
        "    else:\n",
        "      print ('\\n***********************************************************')\n",
        "      edad = int(input( ' ---> Ingrese la edad del cliente: ')) \n",
        "      if edad < 3 and edad >=0:\n",
        "        print (\"  --> La entrada es gratuita\")\n",
        "      elif (edad >= 3 and edad <= 12):\n",
        "        print (\"  --> La entrada del boleto cuesta S/. 10.00\")\n",
        "      elif edad > 12:\n",
        "        print (\"  --> La entrada del boleto cuesta S/. 15.00\")\n",
        "      print ('***********************************************************')\n",
        "\n",
        "print ('***************** GRACIAS POR SU VISITA *****************')\n",
        "print ('********************* VUELVA PRONTO *********************')"
      ],
      "metadata": {
        "colab": {
          "base_uri": "https://localhost:8080/"
        },
        "id": "SiT8-xyAeI1j",
        "outputId": "23447282-6ff7-4129-abc0-f3271ad5f803"
      },
      "execution_count": null,
      "outputs": [
        {
          "output_type": "stream",
          "name": "stdout",
          "text": [
            "**************** BIENVENIDOS AL CINE STAR+ ****************\n",
            "\n",
            " ¿Desea finalizar? \n",
            "no\n",
            "\n",
            "***********************************************************\n",
            " ---> Ingrese la edad del cliente: 3\n",
            "  --> La entrada del boleto cuesta S/. 10.00\n",
            "***********************************************************\n",
            "\n",
            " ¿Desea finalizar? \n",
            "n\n",
            "\n",
            "***********************************************************\n",
            " ---> Ingrese la edad del cliente: 1000000\n",
            "  --> La entrada del boleto cuesta S/. 15.00\n",
            "***********************************************************\n",
            "\n",
            " ¿Desea finalizar? \n",
            "s\n",
            "***************** GRACIAS POR SU VISITA *****************\n",
            "********************* VUELVA PRONTO *********************\n"
          ]
        }
      ]
    },
    {
      "cell_type": "markdown",
      "source": [
        "# Sentencia For"
      ],
      "metadata": {
        "id": "xONwKw-DM0Uj"
      }
    },
    {
      "cell_type": "markdown",
      "source": [
        "### <b> Ejercicio 1</b>\n",
        "\n",
        "\n",
        "Piensa en al menos tres tipos de tu pizza favorita. Almacene estos nombres de pizza en una lista y luego use un ciclo for para imprimir el nombre de cada pizza.\n",
        "\n",
        "Modifique su ciclo for para imprimir una oración usando el nombre de la pizza en lugar de imprimir solo el nombre de la pizza. Para cada pizza, debe tener una línea de salida que contenga una declaración simple como Me gusta la pizza de pepperoni.\n",
        "Agregue una línea al final de su programa, fuera del bucle for, que indique cuánto le gusta la pizza. El resultado debe constar de tres o más líneas sobre los tipos de pizza que te gustan y luego una oración adicional, como ¡Me encanta la pizza!\n"
      ],
      "metadata": {
        "id": "FHwT_HI5Hedh"
      }
    },
    {
      "cell_type": "code",
      "execution_count": null,
      "metadata": {
        "colab": {
          "base_uri": "https://localhost:8080/"
        },
        "id": "emIhk-2gJXNq",
        "outputId": "463d84bb-5cb1-4fa4-970f-e65dc5178799"
      },
      "outputs": [
        {
          "output_type": "stream",
          "name": "stdout",
          "text": [
            "Me gusta la pizza Americana\n",
            "Me gusta la pizza Hawaiana\n",
            "Me gusta la pizza Mexicana\n",
            "¡Me encanta la pizza!\n"
          ]
        }
      ],
      "source": [
        "Pizzas = ['Americana', 'Hawaiana', 'Mexicana']\n",
        "\n",
        "for Pizza in Pizzas:\n",
        "    print(f\"Me gusta la pizza {Pizza.title()}\")\n",
        "print(\"¡Me encanta la pizza!\")"
      ]
    },
    {
      "cell_type": "markdown",
      "source": [
        "### <b> Ejercicio 2</b>\n",
        "\n",
        "Piensa en al menos tres animales diferentes que tengan una característica común. Guarde los nombres de estos animales en una lista y luego use un ciclo for para imprimir el nombre de cada animal.\n",
        "\n",
        "Modifique su programa para imprimir una declaración sobre cada animal, como Un perro sería una gran mascota.\n",
        "Agregue una línea al final de su programa indicando lo que estos animales tienen en común. Podría escribir una oración como ¡Cualquiera de estos animales sería una gran mascota!"
      ],
      "metadata": {
        "id": "CBNrK6wXHnEm"
      }
    },
    {
      "cell_type": "code",
      "execution_count": null,
      "metadata": {
        "colab": {
          "base_uri": "https://localhost:8080/"
        },
        "outputId": "147f73c3-64f5-44db-f0d5-a29853cbeb3f",
        "id": "5yiJNhguL0Rk"
      },
      "outputs": [
        {
          "output_type": "stream",
          "name": "stdout",
          "text": [
            "Un Perro seria una gran mascota, ademas tiene cuatro patas\n",
            "Un Gato seria una gran mascota, ademas tiene cuatro patas\n",
            "Un Hanster seria una gran mascota, ademas tiene cuatro patas\n",
            "Cualquiera de estos animales sería una gran mascota!\n"
          ]
        }
      ],
      "source": [
        "Animales = ['Perro', 'Gato', 'hanster']\n",
        "\n",
        "for Mascota in Animales:\n",
        "    print(f\"Un {Mascota.title()} seria una gran mascota, ademas tiene cuatro patas\")\n",
        "print(\"Cualquiera de estos animales sería una gran mascota!\")"
      ]
    }
  ]
}